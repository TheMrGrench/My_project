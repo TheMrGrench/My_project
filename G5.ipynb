{
 "nbformat": 4,
 "nbformat_minor": 0,
 "metadata": {
  "colab": {
   "provenance": []
  },
  "kernelspec": {
   "name": "python3",
   "display_name": "Python 3"
  },
  "language_info": {
   "name": "python"
  },
  "gpuClass": "standard"
 },
 "cells": [
  {
   "cell_type": "markdown",
   "source": [
    "#1.ПРЕДОБРАБОТКА ДАННЫХ"
   ],
   "metadata": {
    "id": "6GT9fVd0zf_J"
   }
  },
  {
   "cell_type": "markdown",
   "source": [
    "Импортируем необходимые библиотеки"
   ],
   "metadata": {
    "id": "KkdZl3_PPpH4"
   }
  },
  {
   "cell_type": "code",
   "source": [
    "import pandas as pd\n",
    "import matplotlib.pyplot as plt\n",
    "import seaborn as sns\n",
    "import scipy.stats as st\n",
    "import numpy as np\n"
   ],
   "metadata": {
    "id": "ciLdg8yhp0AT",
    "pycharm": {
     "is_executing": true
    }
   },
   "execution_count": null,
   "outputs": []
  },
  {
   "cell_type": "markdown",
   "source": [
    "Загружаем данные"
   ],
   "metadata": {
    "id": "9BNUYmYUznp6"
   }
  },
  {
   "cell_type": "code",
   "source": [
    "logs = pd.read_csv('', sep=';')"
   ],
   "metadata": {
    "id": "k-nf_j0vp2P4"
   },
   "execution_count": 37,
   "outputs": [
    {
     "ename": "SyntaxError",
     "evalue": "(unicode error) 'unicodeescape' codec can't decode bytes in position 2-3: truncated \\UXXXXXXXX escape (2341273275.py, line 1)",
     "output_type": "error",
     "traceback": [
      "\u001B[1;36m  File \u001B[1;32m\"C:\\Users\\stran\\AppData\\Local\\Temp\\ipykernel_6828\\2341273275.py\"\u001B[1;36m, line \u001B[1;32m1\u001B[0m\n\u001B[1;33m    logs = pd.read_csv('C:\\Users\\stran\\AppData\\Roaming\\JetBrains\\DataSpell2023.1\\extensions\\logs.csv', sep=';')\u001B[0m\n\u001B[1;37m                                                                                                     ^\u001B[0m\n\u001B[1;31mSyntaxError\u001B[0m\u001B[1;31m:\u001B[0m (unicode error) 'unicodeescape' codec can't decode bytes in position 2-3: truncated \\UXXXXXXXX escape\n"
     ]
    }
   ]
  },
  {
   "cell_type": "markdown",
   "source": [
    "Проводим предварительный анализ данных"
   ],
   "metadata": {
    "id": "33BULR8yPlPj"
   }
  },
  {
   "cell_type": "code",
   "source": [
    "logs.head()"
   ],
   "metadata": {
    "colab": {
     "base_uri": "https://localhost:8080/",
     "height": 374
    },
    "id": "cs9socekqHPD",
    "outputId": "057d640f-98c5-45d0-af15-7ea75d2e3aac"
   },
   "execution_count": null,
   "outputs": []
  },
  {
   "cell_type": "code",
   "source": [
    "logs.describe().T"
   ],
   "metadata": {
    "colab": {
     "base_uri": "https://localhost:8080/",
     "height": 551
    },
    "id": "qkstSYtGqLEZ",
    "outputId": "86ea82bf-77b9-479f-8f48-7e0894175027"
   },
   "execution_count": null,
   "outputs": []
  },
  {
   "cell_type": "code",
   "source": [
    "logs.info()"
   ],
   "metadata": {
    "id": "5metnsbfrPpY",
    "colab": {
     "base_uri": "https://localhost:8080/"
    },
    "outputId": "7859b104-4345-498c-d167-354f89cf8dd7"
   },
   "execution_count": null,
   "outputs": []
  },
  {
   "cell_type": "code",
   "source": [
    "logs.isna().sum()"
   ],
   "metadata": {
    "colab": {
     "base_uri": "https://localhost:8080/"
    },
    "id": "Jw5cJOWwSow-",
    "outputId": "ad66e45b-efc5-4e50-c21f-5c6926650d5d"
   },
   "execution_count": null,
   "outputs": []
  },
  {
   "cell_type": "markdown",
   "source": [
    "Наблюдаем колонку без данных - удаляем."
   ],
   "metadata": {
    "id": "HsWpi_8OSxPn"
   }
  },
  {
   "cell_type": "code",
   "source": [
    "logs.drop(columns=['Unnamed: 17'], inplace=True)"
   ],
   "metadata": {
    "id": "uMh80aUurkdY"
   },
   "execution_count": null,
   "outputs": []
  },
  {
   "cell_type": "code",
   "source": [
    "logs.duplicated().sum()"
   ],
   "metadata": {
    "colab": {
     "base_uri": "https://localhost:8080/"
    },
    "id": "A5-EEiV7kM6g",
    "outputId": "5997d872-4bdb-4e9c-9e4c-8b8b95a9277e"
   },
   "execution_count": null,
   "outputs": []
  },
  {
   "cell_type": "markdown",
   "source": [
    "дубликатов нет"
   ],
   "metadata": {
    "id": "yx2p681PkiAe"
   }
  },
  {
   "cell_type": "markdown",
   "source": [
    "Удаляем поля с датами поскольку необходимая метрика в числовом формате находится в поле 'time_diff_reg_date'\n"
   ],
   "metadata": {
    "id": "KkqGo_jTTewI"
   }
  },
  {
   "cell_type": "code",
   "source": [
    "logs.drop(columns= ['date_purchase', 'date_reg'], inplace=True)"
   ],
   "metadata": {
    "id": "8hTj0DTksB2K"
   },
   "execution_count": 31,
   "outputs": [
    {
     "ename": "NameError",
     "evalue": "name 'logs' is not defined",
     "output_type": "error",
     "traceback": [
      "\u001B[1;31m---------------------------------------------------------------------------\u001B[0m",
      "\u001B[1;31mNameError\u001B[0m                                 Traceback (most recent call last)",
      "\u001B[1;32m~\\AppData\\Local\\Temp\\ipykernel_6828\\3503778763.py\u001B[0m in \u001B[0;36m<module>\u001B[1;34m\u001B[0m\n\u001B[1;32m----> 1\u001B[1;33m \u001B[0mlogs\u001B[0m\u001B[1;33m.\u001B[0m\u001B[0mdrop\u001B[0m\u001B[1;33m(\u001B[0m\u001B[0mcolumns\u001B[0m\u001B[1;33m=\u001B[0m \u001B[1;33m[\u001B[0m\u001B[1;34m'date_purchase'\u001B[0m\u001B[1;33m,\u001B[0m \u001B[1;34m'date_reg'\u001B[0m\u001B[1;33m]\u001B[0m\u001B[1;33m,\u001B[0m \u001B[0minplace\u001B[0m\u001B[1;33m=\u001B[0m\u001B[1;32mTrue\u001B[0m\u001B[1;33m)\u001B[0m\u001B[1;33m\u001B[0m\u001B[1;33m\u001B[0m\u001B[0m\n\u001B[0m",
      "\u001B[1;31mNameError\u001B[0m: name 'logs' is not defined"
     ]
    }
   ]
  },
  {
   "cell_type": "code",
   "source": [
    "logs.dtypes"
   ],
   "metadata": {
    "id": "4OPryagtsQCZ",
    "colab": {
     "base_uri": "https://localhost:8080/"
    },
    "outputId": "5b374855-528f-458c-a87c-a2b26213e627"
   },
   "execution_count": null,
   "outputs": []
  },
  {
   "cell_type": "code",
   "source": [
    "logs['country_code'] = logs['country_code'].astype(str)\n",
    "logs.drop(columns=['subplatform_id'], inplace=True)"
   ],
   "metadata": {
    "id": "8D0DuwyB7D1F"
   },
   "execution_count": null,
   "outputs": []
  },
  {
   "cell_type": "markdown",
   "source": [
    "Из соображений, что платящиго/не платящиго игрока можно лучше классифицировать по признаку откуда он родом, нежели с какого девайса он играет. Удалим колонку \"subplatform_id\", а колонку \"country_code\" закодироем с помощью функции pd.get_dummies()"
   ],
   "metadata": {
    "id": "zHl6lInKFMew"
   }
  },
  {
   "cell_type": "code",
   "source": [
    "logs = pd.get_dummies(logs, drop_first=True, dummy_na=False)"
   ],
   "metadata": {
    "id": "lu9Q3c1l7Pb_"
   },
   "execution_count": null,
   "outputs": []
  },
  {
   "cell_type": "code",
   "source": [
    "# plt.figure(figsize=(40, 40))\n",
    "# sns.heatmap(logs.corr(), annot = True, fmt='.2f');"
   ],
   "metadata": {
    "id": "JErw3uTdJoIc"
   },
   "execution_count": null,
   "outputs": []
  },
  {
   "cell_type": "markdown",
   "source": [
    "Для того чтоб убрать мультиколлиниарность будем испольвать L2 ругуляризацию"
   ],
   "metadata": {
    "id": "goxsbf2xKGGp"
   }
  },
  {
   "cell_type": "markdown",
   "source": [
    "##2.Построение предсказательной модели"
   ],
   "metadata": {
    "id": "a2-_fftt5MW3"
   }
  },
  {
   "cell_type": "markdown",
   "source": [
    "Разбиваем данные на обучающею и тестовые выборки"
   ],
   "metadata": {
    "id": "urkNsRdpXj8-"
   }
  },
  {
   "cell_type": "code",
   "source": [
    "# from sklearn.model_selection import train_test_split\n",
    "# X = logs.drop(columns=['category'])\n",
    "# y = logs.category\n",
    "# X_train, X_test, y_train, y_test = train_test_split(X, y, test_size=0.2, random_state=42)"
   ],
   "metadata": {
    "id": "5bVjcoJx_vIR"
   },
   "execution_count": null,
   "outputs": []
  },
  {
   "cell_type": "markdown",
   "source": [
    "Строим модель классификации логистической регрессии"
   ],
   "metadata": {
    "id": "pvxwuafQbDom"
   }
  },
  {
   "cell_type": "markdown",
   "source": [
    "Оцениваем качество модели"
   ],
   "metadata": {
    "id": "aSimbBHsdFaD"
   }
  },
  {
   "cell_type": "code",
   "source": [
    "# from sklearn.preprocessing import StandardScaler\n",
    "# from sklearn.linear_model import LogisticRegression\n",
    "# # стандартизировать и привести все признаки к одному масштабу\n",
    "# scaler = StandardScaler()\n",
    "# scaler.fit(X_train)\n",
    "# X_train_standard = scaler.transform(X_train)\n",
    "# X_test_standard = scaler.transform(X_test)"
   ],
   "metadata": {
    "id": "GvqFN4Wwv6IC"
   },
   "execution_count": 32,
   "outputs": []
  },
  {
   "cell_type": "code",
   "source": [
    "# from sklearn.metrics import accuracy_score, precision_score, recall_score\n",
    "\n",
    "# lr = LogisticRegression()\n",
    "\n",
    "# lr.fit(X_train_standard, y_train)\n",
    "# y_pred = lr.predict(X_test_standard)\n",
    "# accuracy_lr = accuracy_score(y_test, y_pred)\n",
    "# precision_lr= precision_score(y_test, y_pred)\n",
    "# recall_lr = recall_score(y_test, y_pred)\n",
    "\n",
    "# from sklearn.metrics import classification_report\n",
    "# print(classification_report(y_test, y_pred))\n"
   ],
   "metadata": {
    "id": "hr2F-jvNXjKk"
   },
   "execution_count": 33,
   "outputs": []
  },
  {
   "cell_type": "code",
   "source": [
    "# #Делаем модель дерево решений\n",
    "\n",
    "# from sklearn.model_selection import train_test_split\n",
    "# X_dt = logs.drop(columns=['category'])\n",
    "# y_dt = logs.category\n",
    "# X_train_dt, X_test_dt, y_train_dt, y_test_dt = train_test_split(X_dt, y_dt, test_size=0.2, random_state=42)\n",
    "\n",
    "# from sklearn.preprocessing import StandardScaler\n",
    "# from sklearn.linear_model import LogisticRegression\n",
    "# # стандартизировать и привести все признаки к одному масштабу\n",
    "# scaler_dt = StandardScaler()\n",
    "# scaler.fit(X_train_dt)\n",
    "# X_train_standard_dt = scaler.transform(X_train_dt)\n",
    "# X_test_standard_dt = scaler.transform(X_test_dt)\n",
    "\n",
    "# from sklearn.tree import DecisionTreeClassifier\n",
    "\n",
    "# dt = DecisionTreeClassifier()\n",
    "# dt.fit(X_train_dt, y_train_dt)\n",
    "# y_pred_dt = dt.predict(X_test_standard_dt)\n",
    "# accuracy_dt = accuracy_score(y_test, y_pred_dt)\n",
    "# precision_dt = precision_score(y_test_dt, y_pred_dt)\n",
    "# recall_dt = recall_score(y_test_dt, y_pred_dt)\n",
    "\n",
    "# from sklearn.metrics import classification_report\n",
    "# print(classification_report(y_test_dt, y_pred_dt))"
   ],
   "metadata": {
    "id": "PMlwCliVGtCC"
   },
   "execution_count": 34,
   "outputs": []
  },
  {
   "cell_type": "markdown",
   "source": [
    "Как видим логистическая регрессия немного дала необходимый результат, но он не достаточен, дерево решений вовсе не справилась с поставленной задачей "
   ],
   "metadata": {
    "id": "UCR_4sZxO4_t"
   }
  },
  {
   "cell_type": "code",
   "source": [
    "# импортируем необходимые библиотеки\n",
    "from imblearn.over_sampling import SMOTE\n",
    "from sklearn.datasets import make_classification\n",
    "from sklearn.model_selection import train_test_split\n",
    "from sklearn.linear_model import LogisticRegression\n",
    "from sklearn.metrics import classification_report\n",
    "\n",
    "X = logs.drop(columns=['category'], axis=1)\n",
    "y = logs.category\n",
    "X_train, X_test, y_train, y_test = train_test_split(X, y, test_size=0.2, random_state=42)\n",
    "\n",
    "\n",
    "smote = SMOTE(sampling_strategy='minority')\n",
    "X_train_resampled, y_train_resampled = smote.fit_resample(X_train, y_train)\n",
    "\n",
    "lr = LogisticRegression()\n",
    "lr.fit(X_train_resampled, y_train_resampled)\n",
    "\n",
    "y_pred = lr.predict(X_test)\n",
    "\n",
    "\n",
    "print(classification_report(y_test, y_pred))"
   ],
   "metadata": {
    "colab": {
     "base_uri": "https://localhost:8080/"
    },
    "id": "R12Yq9PtPDn6",
    "outputId": "781683e8-f3c1-4fc7-f3e5-c0b95bc1aff6"
   },
   "execution_count": 35,
   "outputs": [
    {
     "ename": "ModuleNotFoundError",
     "evalue": "No module named 'imblearn'",
     "output_type": "error",
     "traceback": [
      "\u001B[1;31m---------------------------------------------------------------------------\u001B[0m",
      "\u001B[1;31mModuleNotFoundError\u001B[0m                       Traceback (most recent call last)",
      "\u001B[1;32m~\\AppData\\Local\\Temp\\ipykernel_6828\\4207700652.py\u001B[0m in \u001B[0;36m<module>\u001B[1;34m\u001B[0m\n\u001B[0;32m      1\u001B[0m \u001B[1;31m# импортируем необходимые библиотеки\u001B[0m\u001B[1;33m\u001B[0m\u001B[1;33m\u001B[0m\u001B[0m\n\u001B[1;32m----> 2\u001B[1;33m \u001B[1;32mfrom\u001B[0m \u001B[0mimblearn\u001B[0m\u001B[1;33m.\u001B[0m\u001B[0mover_sampling\u001B[0m \u001B[1;32mimport\u001B[0m \u001B[0mSMOTE\u001B[0m\u001B[1;33m\u001B[0m\u001B[1;33m\u001B[0m\u001B[0m\n\u001B[0m\u001B[0;32m      3\u001B[0m \u001B[1;32mfrom\u001B[0m \u001B[0msklearn\u001B[0m\u001B[1;33m.\u001B[0m\u001B[0mdatasets\u001B[0m \u001B[1;32mimport\u001B[0m \u001B[0mmake_classification\u001B[0m\u001B[1;33m\u001B[0m\u001B[1;33m\u001B[0m\u001B[0m\n\u001B[0;32m      4\u001B[0m \u001B[1;32mfrom\u001B[0m \u001B[0msklearn\u001B[0m\u001B[1;33m.\u001B[0m\u001B[0mmodel_selection\u001B[0m \u001B[1;32mimport\u001B[0m \u001B[0mtrain_test_split\u001B[0m\u001B[1;33m\u001B[0m\u001B[1;33m\u001B[0m\u001B[0m\n\u001B[0;32m      5\u001B[0m \u001B[1;32mfrom\u001B[0m \u001B[0msklearn\u001B[0m\u001B[1;33m.\u001B[0m\u001B[0mlinear_model\u001B[0m \u001B[1;32mimport\u001B[0m \u001B[0mLogisticRegression\u001B[0m\u001B[1;33m\u001B[0m\u001B[1;33m\u001B[0m\u001B[0m\n",
      "\u001B[1;31mModuleNotFoundError\u001B[0m: No module named 'imblearn'"
     ]
    }
   ]
  },
  {
   "cell_type": "code",
   "source": [
    "import xgboost as xgb\n",
    "from sklearn.datasets import load_breast_cancer\n",
    "from sklearn.model_selection import train_test_split\n",
    "from sklearn.metrics import classification_report\n",
    "\n",
    "X_train, X_test, y_train, y_test = train_test_split(X, y, test_size=0.2, random_state=42)\n",
    "\n",
    "model = xgb.XGBClassifier()\n",
    "model.fit(X_train, y_train)\n",
    "y_pred = model.predict(X_test)\n",
    "\n",
    "print(classification_report(y_test, y_pred))\n"
   ],
   "metadata": {
    "colab": {
     "base_uri": "https://localhost:8080/"
    },
    "id": "2H4JfVm8YSEG",
    "outputId": "5769af58-187d-4a24-c8c0-a4d06cff3693"
   },
   "execution_count": null,
   "outputs": []
  }
 ]
}
